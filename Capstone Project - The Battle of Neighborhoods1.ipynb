{
    "cells": [
        {
            "cell_type": "markdown",
            "metadata": {
                "collapsed": true
            },
            "source": 
        },
        {
            "cell_type": "markdown",
            "metadata": {},
            "source": "## The Battle of Neighborhoods (Part - 1)"
        },
        {
            "cell_type": "markdown",
            "metadata": {},
            "source": "### Mustafa Khan - Part 1 : Introduction and Data Sections"
        },
        {
            "cell_type": "code",
            "execution_count": 1,
            "metadata": {},
            "outputs": [
                {
                    "name": "stdout",
                    "output_type": "stream",
                    "text": "Solving environment: done\n\n## Package Plan ##\n\n  environment location: /opt/conda/envs/Python36\n\n  added / updated specs: \n    - folium=0.5.0\n\n\nThe following packages will be downloaded:\n\n    package                    |            build\n    ---------------------------|-----------------\n    folium-0.5.0               |             py_0          45 KB  conda-forge\n    altair-4.1.0               |             py_1         614 KB  conda-forge\n    ca-certificates-2020.6.20  |       hecda079_0         145 KB  conda-forge\n    branca-0.4.1               |             py_0          26 KB  conda-forge\n    python_abi-3.6             |          1_cp36m           4 KB  conda-forge\n    certifi-2020.6.20          |   py36h9f0ad1d_0         151 KB  conda-forge\n    vincent-0.4.4              |             py_1          28 KB  conda-forge\n    openssl-1.1.1g             |       h516909a_0         2.1 MB  conda-forge\n    ------------------------------------------------------------\n                                           Total:         3.1 MB\n\nThe following NEW packages will be INSTALLED:\n\n    altair:          4.1.0-py_1        conda-forge\n    branca:          0.4.1-py_0        conda-forge\n    folium:          0.5.0-py_0        conda-forge\n    python_abi:      3.6-1_cp36m       conda-forge\n    vincent:         0.4.4-py_1        conda-forge\n\nThe following packages will be UPDATED:\n\n    ca-certificates: 2020.1.1-0                    --> 2020.6.20-hecda079_0     conda-forge\n    certifi:         2020.4.5.1-py36_0             --> 2020.6.20-py36h9f0ad1d_0 conda-forge\n    openssl:         1.1.1g-h7b6447c_0             --> 1.1.1g-h516909a_0        conda-forge\n\n\nDownloading and Extracting Packages\nfolium-0.5.0         | 45 KB     | ##################################### | 100% \naltair-4.1.0         | 614 KB    | ##################################### | 100% \nca-certificates-2020 | 145 KB    | ##################################### | 100% \nbranca-0.4.1         | 26 KB     | ##################################### | 100% \npython_abi-3.6       | 4 KB      | ##################################### | 100% \ncertifi-2020.6.20    | 151 KB    | ##################################### | 100% \nvincent-0.4.4        | 28 KB     | ##################################### | 100% \nopenssl-1.1.1g       | 2.1 MB    | ##################################### | 100% \nPreparing transaction: done\nVerifying transaction: done\nExecuting transaction: done\nLibraries imported.\n"
                }
            ],
            "source": "\nimport numpy as np # library to handle data in a vectorized manner\nimport time\nimport pandas as pd # library for data analsysis\npd.set_option('display.max_columns', None)\npd.set_option('display.max_rows', None)\n\nimport json # library to handle JSON files\nimport requests # library to handle requests\nfrom pandas.io.json import json_normalize # tranform JSON file into a pandas dataframe\n\nfrom geopy.geocoders import Nominatim # convert an address into latitude and longitude values\n!conda install -c conda-forge folium=0.5.0 --yes # uncomment this line if you haven't completed the Foursquare API lab\nimport folium # map rendering library\n\nprint('Libraries imported.')"
        },
        {
            "cell_type": "markdown",
            "metadata": {},
            "source": "## Coursera Capstone - Report Content\n<ol start = 1>\n    <li>Introduction Section : \u2043 Discussion of the business problem and the interested audience in this project.</li>\n    <li>   Data Section:\n\u2043 Description of the data that will be used to solve the problem and the sources.</li>\n    <li> Methodology section \u2043 Discussion and description of exploratory data analysis carried out, any inferential statistical testing performed, and if any machine learnings were used establishing the strategy and purposes.</li>\n    <li>Results section \u2043 Discussion of the results.</li>\n    <li>Discussion section \u2043 Elaboration and discussion on any observations noted and any recommendations suggested based on the results.</li>\n    <li>Conclusion section \u2043 Report Conclusion.</li>\n    </ol>"
        },
        {
            "cell_type": "markdown",
            "metadata": {},
            "source": "# A description of the problem and a discussion of the background. (15 marks)"
        },
        {
            "cell_type": "markdown",
            "metadata": {},
            "source": "## Discussion of the business problem and the audience who would be interested in this project.\n## Description of the Problem and Background"
        },
        {
            "cell_type": "markdown",
            "metadata": {},
            "source": "### Scenario:\n\nI am a data scientist residing in Downtown Bandra. I currently live within walking distance to Downtown Bandra MRT metro station and I enjoy many ammenities and venues in the area, such as various international cousine restaurants, cafes, food shops and entertainment. I have been offered a great opportunity to work for a leader firm in Manhattan, NY. I am very excited and I want to use this opportunity to practice my learnings in Coursera in order to answer relevant questions arisen. The key question is : How can I find a convenient and enjoyable place similar to mine now in Bandra? Certainly, I can use available real estate apps and Google but the idea is to use and apply myself the learned tools during the course. In order to make a comparison and evaluation of the rental options in Manhattan NY, I must set some basis, therefore the apartment in Manhattan must meet the following demands:\n<ul>\n    <li> apartment must be 2 or 3 bedrooms </li>\n    <li> desired location is near a metro station in the Manhattan area and within 1.0 mile (1.6 km) radius </li>\n    <li> price of rent not exceed $7,000 per month </li>\n    <li> top ammenities in the selected neighborhood shall be similar to current residence </li>\n    <li> desirable to have venues such as coffee shops, restaurants Asian Thai, wine stores, gym and food shops </li>\n    <li> as a reference, I have included a map of venues near current residence in Mumbai. </li>"
        },
        {
            "cell_type": "markdown",
            "metadata": {},
            "source": "### Business Problem:\nThe challenge is to find a suitable apartment for rent in Manhattan NY that complies with the demands on location, price and venues. The data required to resolve this challenge is described in the following section 2, below."
        },
        {
            "cell_type": "markdown",
            "metadata": {},
            "source": "### Interested Audience\nI believe this is a relevant challenge with valid questions for anyone moving to other large city in US, EU or Asia. The same methodology can be applied in accordance to demands as applicable. This case is also applicable for anyone interested in exploring starting or locating a new business in any city. Lastly, it can also serve as a good practical exercise to develop Data Science skills."
        },
        {
            "cell_type": "markdown",
            "metadata": {},
            "source": "# A description of the data and how it will be used to solve the problem. (15 marks)"
        },
        {
            "cell_type": "markdown",
            "metadata": {},
            "source": "# 2. Data Section:\n## Description of the data and its sources that will be used to solve the problem\n### Description of the Data:"
        },
        {
            "cell_type": "markdown",
            "metadata": {},
            "source": "The following data is required to answer the issues of the problem:\n<ul>\n    <li> List of Boroughs and neighborhoods of Manhattan with their geodata (latitud and longitud) </li>\n    <li> List of Subway metro stations in Manhattan with their address location\n </li>\n    <li> List of apartments for rent in Manhattan area with their addresses and price </li>\n    <li> Preferably, a list of apartment for rent with additional information, such as price, address, area, # of beds, etc </li>\n    <li> Venues for each Manhattan neighborhood ( than can be clustered) </li>\n    <li> Venues for subway metro stations, as needed </li>"
        },
        {
            "cell_type": "markdown",
            "metadata": {},
            "source": "## How the data will be used to solve the problem"
        },
        {
            "cell_type": "markdown",
            "metadata": {},
            "source": "The data will be used as follows:\n\n<ul>\n    <li> Use Foursquare and geopy data to map top 10 venues for all Manhattan neighborhoods and clustered in groups ( as per Course LAB) </li>\n    <li> Use foursquare and geopy data to map the location of subway metro stations , separately and on top of the above clustered map in order to be able to identify the venues and ammenities near each metro station, or explore each subway location separately. </li>\n    <li> Use Foursquare and geopy data to map the location of rental places, in some form, linked to the subway locations. </li>\n    <li> create a map that depicts, for instance, the average rental price per square ft, around a radious of 1.0 mile (1.6 km) around each subway station - or a similar metrics. I will be able to quickly point to the popups to know the relative price per subway area. </li>\n    <li> Addresses from rental locations will be converted to geodata( lat, long) using Geopy-distance and Nominatim. </li>\n    <li> Data will be searched in open data sources if available, from real estate sites if open to reading, libraries or other government agencies such as Metro New York MTA, etc. </li>\n</ul>\nThe procesing of these DATA will allow to answer the key questions to make a decision:\n<ul>\n    <li> what is the cost of rent (per square ft) around a mile radius from each subway metro station? </li>\n    <li> what is the area of Manhattan with best rental pricing that meets criteria established? </li>\n    <li>What is the distance from work place ( Park Ave and 53 rd St) and the tentative future home?</li>\n    <li> What are the venues of the two best places to live? How the prices compare? </li>\n    <li> How venues distribute among Manhattan neighborhoods and around metro stations? </li>\n    <li> Are there tradeoffs between size and price and location? </li>\n    <li> Any other interesting statistical data findings of the real estate and overall data.</li>\n    </ul>"
        },
        {
            "cell_type": "markdown",
            "metadata": {},
            "source": "### Reference of venues around current residence in Bandra for comparison to Manhattan place"
        },
        {
            "cell_type": "code",
            "execution_count": 21,
            "metadata": {},
            "outputs": [
                {
                    "name": "stderr",
                    "output_type": "stream",
                    "text": "/opt/conda/envs/Python36/lib/python3.6/site-packages/ipykernel/__main__.py:4: DeprecationWarning: Using Nominatim with the default \"geopy/1.18.1\" `user_agent` is strongly discouraged, as it violates Nominatim's ToS https://operations.osmfoundation.org/policies/nominatim/ and may possibly cause 403 and 429 HTTP errors. Please specify a custom `user_agent` with `Nominatim(user_agent=\"my-application\")` or by overriding the default `user_agent`: `geopy.geocoders.options.default_user_agent = \"my-application\"`. In geopy 2.0 this will become an exception.\n"
                },
                {
                    "name": "stdout",
                    "output_type": "stream",
                    "text": "The geograpical coordinate of Bandra home are 19.0549792, 72.8402203.\n"
                }
            ],
            "source": "# Bandra, District 400051, Mumbai\naddress = 'Bandra, Mumbai'\n\ngeolocator = Nominatim()\nlocation = geolocator.geocode(address)\nlatitude = location.latitude\nlongitude = location.longitude\nprint('The geograpical coordinate of Bandra home are {}, {}.'.format(latitude, longitude))"
        },
        {
            "cell_type": "code",
            "execution_count": 22,
            "metadata": {},
            "outputs": [],
            "source": "neighborhood_latitude=19.0549792\nneighborhood_longitude=72.8402203"
        },
        {
            "cell_type": "code",
            "execution_count": 29,
            "metadata": {},
            "outputs": [],
            "source": "# The code was removed by Watson Studio for sharing."
        },
        {
            "cell_type": "code",
            "execution_count": 24,
            "metadata": {},
            "outputs": [
                {
                    "data": {
                        "text/plain": "'https://api.foursquare.com/v2/venues/explore?&client_id=QYBLOT2MSO3Q1LHAPJUNP4UP45CJ15HBLEIKNEVQFRSLCDGX&client_secret=HLBTJXCN5LEZPCWLNEF1MZGQ5UBCQ34P4DTMQ4YSB4BDGYYX&v=20180605&ll=19.0549792,72.8402203&radius=500&limit=100'"
                    },
                    "execution_count": 24,
                    "metadata": {},
                    "output_type": "execute_result"
                }
            ],
            "source": "LIMIT = 100 # limit of number of venues returned by Foursquare API\nradius = 500 # define radius\n\n# create URL\nurl = 'https://api.foursquare.com/v2/venues/explore?&client_id={}&client_secret={}&v={}&ll={},{}&radius={}&limit={}'.format(\n    CLIENT_ID, \n    CLIENT_SECRET, \n    VERSION, \n    neighborhood_latitude, \n    neighborhood_longitude, \n    radius, \n    LIMIT)\nurl # display URL"
        },
        {
            "cell_type": "code",
            "execution_count": 25,
            "metadata": {},
            "outputs": [],
            "source": "#results\nresults = requests.get(url).json()"
        },
        {
            "cell_type": "code",
            "execution_count": 26,
            "metadata": {},
            "outputs": [],
            "source": "# function that extracts the category of the venue\ndef get_category_type(row):\n    try:\n        categories_list = row['categories']\n    except:\n        categories_list = row['venue.categories']\n        \n    if len(categories_list) == 0:\n        return None\n    else:\n        return categories_list[0]['name']"
        },
        {
            "cell_type": "code",
            "execution_count": 27,
            "metadata": {},
            "outputs": [
                {
                    "data": {
                        "text/html": "<div>\n<style scoped>\n    .dataframe tbody tr th:only-of-type {\n        vertical-align: middle;\n    }\n\n    .dataframe tbody tr th {\n        vertical-align: top;\n    }\n\n    .dataframe thead th {\n        text-align: right;\n    }\n</style>\n<table border=\"1\" class=\"dataframe\">\n  <thead>\n    <tr style=\"text-align: right;\">\n      <th></th>\n      <th>name</th>\n      <th>categories</th>\n      <th>lat</th>\n      <th>lng</th>\n    </tr>\n  </thead>\n  <tbody>\n    <tr>\n      <th>0</th>\n      <td>Coalz</td>\n      <td>Caf\u00e9</td>\n      <td>19.056468</td>\n      <td>72.839154</td>\n    </tr>\n    <tr>\n      <th>1</th>\n      <td>National Restaurant</td>\n      <td>Indian Restaurant</td>\n      <td>19.056546</td>\n      <td>72.839141</td>\n    </tr>\n    <tr>\n      <th>2</th>\n      <td>Lucky Restaurant</td>\n      <td>Indian Restaurant</td>\n      <td>19.054045</td>\n      <td>72.837712</td>\n    </tr>\n    <tr>\n      <th>3</th>\n      <td>Sahakari Bhandar</td>\n      <td>Convenience Store</td>\n      <td>19.056581</td>\n      <td>72.839305</td>\n    </tr>\n    <tr>\n      <th>4</th>\n      <td>Lucky Biryani</td>\n      <td>Indian Restaurant</td>\n      <td>19.053935</td>\n      <td>72.837775</td>\n    </tr>\n    <tr>\n      <th>5</th>\n      <td>Bandra Railway Station</td>\n      <td>Train Station</td>\n      <td>19.054999</td>\n      <td>72.840235</td>\n    </tr>\n    <tr>\n      <th>6</th>\n      <td>Cafe Coffee Day</td>\n      <td>Caf\u00e9</td>\n      <td>19.056448</td>\n      <td>72.837156</td>\n    </tr>\n    <tr>\n      <th>7</th>\n      <td>Hind bar &amp; restaurant</td>\n      <td>Indian Restaurant</td>\n      <td>19.055054</td>\n      <td>72.840364</td>\n    </tr>\n    <tr>\n      <th>8</th>\n      <td>Bandra Jumbo Xerox</td>\n      <td>Design Studio</td>\n      <td>19.055550</td>\n      <td>72.839850</td>\n    </tr>\n    <tr>\n      <th>9</th>\n      <td>Yaadgaar</td>\n      <td>Indian Restaurant</td>\n      <td>19.054602</td>\n      <td>72.839608</td>\n    </tr>\n  </tbody>\n</table>\n</div>",
                        "text/plain": "                     name         categories        lat        lng\n0                   Coalz               Caf\u00e9  19.056468  72.839154\n1     National Restaurant  Indian Restaurant  19.056546  72.839141\n2        Lucky Restaurant  Indian Restaurant  19.054045  72.837712\n3        Sahakari Bhandar  Convenience Store  19.056581  72.839305\n4           Lucky Biryani  Indian Restaurant  19.053935  72.837775\n5  Bandra Railway Station      Train Station  19.054999  72.840235\n6         Cafe Coffee Day               Caf\u00e9  19.056448  72.837156\n7   Hind bar & restaurant  Indian Restaurant  19.055054  72.840364\n8      Bandra Jumbo Xerox      Design Studio  19.055550  72.839850\n9                Yaadgaar  Indian Restaurant  19.054602  72.839608"
                    },
                    "execution_count": 27,
                    "metadata": {},
                    "output_type": "execute_result"
                }
            ],
            "source": "venues = results['response']['groups'][0]['items']\n    \nSGnearby_venues = json_normalize(venues) # flatten JSON\n\n# filter columns\nfiltered_columns = ['venue.name', 'venue.categories', 'venue.location.lat', 'venue.location.lng']\nSGnearby_venues =SGnearby_venues.loc[:, filtered_columns]\n\n# filter the category for each row\nSGnearby_venues['venue.categories'] = SGnearby_venues.apply(get_category_type, axis=1)\n\n# clean columns\nSGnearby_venues.columns = [col.split(\".\")[-1] for col in SGnearby_venues.columns]\n\nSGnearby_venues.head(10)"
        },
        {
            "cell_type": "markdown",
            "metadata": {},
            "source": "## Map of Bandra with venues near residence place - for reference"
        },
        {
            "cell_type": "code",
            "execution_count": 28,
            "metadata": {},
            "outputs": [
                {
                    "data": {
                        "text/html": "<div style=\"width:100%;\"><div style=\"position:relative;width:100%;height:0;padding-bottom:60%;\"><span style=\"color:#565656\">Make this Notebook Trusted to load map: File -> Trust Notebook</span><iframe src=\"about:blank\" style=\"position:absolute;width:100%;height:100%;left:0;top:0;border:none !important;\" data-html=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 onload=\"this.contentDocument.open();this.contentDocument.write(atob(this.getAttribute('data-html')));this.contentDocument.close();\" allowfullscreen webkitallowfullscreen mozallowfullscreen></iframe></div></div>",
                        "text/plain": "<folium.folium.Map at 0x7f32f98d10f0>"
                    },
                    "execution_count": 28,
                    "metadata": {},
                    "output_type": "execute_result"
                }
            ],
            "source": "# create map of Singapore place  using latitude and longitude values\nmap_sg = folium.Map(location=[latitude, longitude], zoom_start=18)\n\n# add markers to map\nfor lat, lng, label in zip(SGnearby_venues['lat'], SGnearby_venues['lng'], SGnearby_venues['name']):\n    label = folium.Popup(label, parse_html=True)\n    folium.RegularPolygonMarker(\n        [lat, lng],\n        number_of_sides=4,\n        radius=10,\n        popup=label,\n        color='blue',\n        fill_color='#0f0f0f',\n        fill_opacity=0.7,\n    ).add_to(map_sg)  \n    \nmap_sg"
        },
        {
            "cell_type": "code",
            "execution_count": null,
            "metadata": {},
            "outputs": [],
            "source": ""
        },
        {
            "cell_type": "code",
            "execution_count": null,
            "metadata": {},
            "outputs": [],
            "source": ""
        },
        {
            "cell_type": "code",
            "execution_count": null,
            "metadata": {},
            "outputs": [],
            "source": ""
        },
        {
            "cell_type": "code",
            "execution_count": null,
            "metadata": {},
            "outputs": [],
            "source": ""
        },
        {
            "cell_type": "code",
            "execution_count": null,
            "metadata": {},
            "outputs": [],
            "source": ""
        },
        {
            "cell_type": "code",
            "execution_count": null,
            "metadata": {},
            "outputs": [],
            "source": ""
        },
        {
            "cell_type": "code",
            "execution_count": null,
            "metadata": {},
            "outputs": [],
            "source": ""
        },
        {
            "cell_type": "code",
            "execution_count": null,
            "metadata": {},
            "outputs": [],
            "source": ""
        },
        {
            "cell_type": "code",
            "execution_count": null,
            "metadata": {},
            "outputs": [],
            "source": ""
        },
        {
            "cell_type": "code",
            "execution_count": null,
            "metadata": {},
            "outputs": [],
            "source": ""
        },
        {
            "cell_type": "code",
            "execution_count": null,
            "metadata": {},
            "outputs": [],
            "source": ""
        },
        {
            "cell_type": "code",
            "execution_count": null,
            "metadata": {},
            "outputs": [],
            "source": ""
        },
        {
            "cell_type": "code",
            "execution_count": null,
            "metadata": {},
            "outputs": [],
            "source": ""
        },
        {
            "cell_type": "code",
            "execution_count": null,
            "metadata": {},
            "outputs": [],
            "source": ""
        },
        {
            "cell_type": "code",
            "execution_count": null,
            "metadata": {},
            "outputs": [],
            "source": ""
        },
        {
            "cell_type": "code",
            "execution_count": null,
            "metadata": {},
            "outputs": [],
            "source": ""
        }
    ],
    "metadata": {
        "kernelspec": {
            "display_name": "Python 3.6",
            "language": "python",
            "name": "python3"
        },
        "language_info": {
            "codemirror_mode": {
                "name": "ipython",
                "version": 3
            },
            "file_extension": ".py",
            "mimetype": "text/x-python",
            "name": "python",
            "nbconvert_exporter": "python",
            "pygments_lexer": "ipython3",
            "version": "3.6.9"
        }
    },
    "nbformat": 4,
    "nbformat_minor": 1
}
